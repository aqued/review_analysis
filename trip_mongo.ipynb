{
 "cells": [
  {
   "cell_type": "markdown",
   "metadata": {},
   "source": [
    "# 트립 어드바이저 MongoDB로 연동 중 망고플레이트로 주제 변경\n"
   ]
  },
  {
   "cell_type": "code",
   "execution_count": 48,
   "metadata": {},
   "outputs": [],
   "source": [
    "import requests as rq\n",
    "import time\n",
    "import sys\n",
    "import pymongo as pm\n",
    "\n",
    "from selenium import webdriver\n",
    "from selenium.webdriver.common.keys import Keys\n",
    "from bs4 import BeautifulSoup as BS"
   ]
  },
  {
   "cell_type": "markdown",
   "metadata": {},
   "source": [
    "# 1. 크롬에서 트리바고로 이동"
   ]
  },
  {
   "cell_type": "code",
   "execution_count": 49,
   "metadata": {},
   "outputs": [],
   "source": [
    "path = 'C:\\ChromeDriver\\chromedriver.exe'\n",
    "PAUSE_TIME = 1.0"
   ]
  },
  {
   "cell_type": "code",
   "execution_count": 50,
   "metadata": {},
   "outputs": [],
   "source": [
    "driver = webdriver.Chrome(path)\n",
    "time.sleep(PAUSE_TIME)"
   ]
  },
  {
   "cell_type": "code",
   "execution_count": 60,
   "metadata": {},
   "outputs": [],
   "source": [
    "url = \"https://www.tripadvisor.co.kr/Restaurants-g1066457-Shinjuku_Tokyo_Tokyo_Prefecture_Kanto.html\" #지역"
   ]
  },
  {
   "cell_type": "code",
   "execution_count": 61,
   "metadata": {},
   "outputs": [],
   "source": [
    "driver.get(url) #url로 이동\n",
    "time.sleep(PAUSE_TIME)"
   ]
  },
  {
   "cell_type": "code",
   "execution_count": 62,
   "metadata": {},
   "outputs": [],
   "source": [
    "text = driver.page_source\n",
    "soup = BS(text, 'html.parser')"
   ]
  },
  {
   "cell_type": "markdown",
   "metadata": {},
   "source": [
    "# 2. 위치 및 30위 까지 순위"
   ]
  },
  {
   "cell_type": "code",
   "execution_count": 63,
   "metadata": {
    "scrolled": true
   },
   "outputs": [
    {
     "name": "stdout",
     "output_type": "stream",
     "text": [
      " < 신주쿠 음식점 Shinjuku > "
     ]
    }
   ],
   "source": [
    "head = soup.find('h1', {'id':'HEADING'})\n",
    "head_n = head.text.strip()\n",
    "print(\" < \", end =\"\")\n",
    "for ht in head_n:\n",
    "    if ht != '\\n':\n",
    "        print(ht, end=\"\")\n",
    "    else:\n",
    "        print(end = \" \")\n",
    "\n",
    "print(\" > \", end =\"\")\n"
   ]
  },
  {
   "cell_type": "code",
   "execution_count": 64,
   "metadata": {},
   "outputs": [],
   "source": [
    "revs = soup.findAll('div', {'class':'title'}) #음식점 명들 긁어오기"
   ]
  },
  {
   "cell_type": "markdown",
   "metadata": {},
   "source": [
    "# 3. MongoDB 연결"
   ]
  },
  {
   "cell_type": "code",
   "execution_count": null,
   "metadata": {},
   "outputs": [],
   "source": [
    "conn = pm.MongoClient(\"mongodb://13.125.29.252\", 27017) #Aws ubuntu mongodb에 접속"
   ]
  },
  {
   "cell_type": "code",
   "execution_count": null,
   "metadata": {},
   "outputs": [],
   "source": [
    "db = conn.trivago_db #tirvago_db에 접속"
   ]
  },
  {
   "cell_type": "code",
   "execution_count": null,
   "metadata": {},
   "outputs": [],
   "source": [
    "users = db."
   ]
  },
  {
   "cell_type": "code",
   "execution_count": null,
   "metadata": {},
   "outputs": [],
   "source": []
  },
  {
   "cell_type": "code",
   "execution_count": null,
   "metadata": {},
   "outputs": [],
   "source": [
    "driver.get(link) #음식점 링크로 이동\n",
    "time.sleep(PAUSE_TIME)\n",
    "try:\n",
    "    name = driver.find_element_by_xpath('//*[@id=\"HEADING\"]').text\n",
    "except:\n",
    "    name = driver.find_element_by_xpath('//*[@id=\"taplc_resp_rr_top_info_rr_resp_0\"]/div/div[1]/h1').text #음식점 이름\n",
    "    \n",
    "print(\"<\", name,\">\")\n",
    "    \n",
    "#이름 전처리\n",
    "if name[0] in [0-9]:\n",
    "    n = '_' + name\n",
    "else:\n",
    "    pass\n",
    "    \n",
    "if ' ' in name:\n",
    "    nam = name.replace(', ', '_')\n",
    "    nam = nam.replace(' ', '_')\n",
    "    nam = nam.replace('-', '_')\n",
    "else:\n",
    "    pass\n",
    "\n",
    "users = db.name\n",
    "    \n",
    "    \n",
    "ct = 'create table trivago_db.' + str(n) + ' (id varchar(20) not null, title varchar(150) not null, subtext text not null, primary key(id))'\n",
    "sql = 'insert into trivago_db.' + str(n) + ' (id, title, subtext) values (%s, %s, %s)'\n",
    "curs.execute(ct) #DB 테이블 음식점별로 생성\n",
    "driver.find_element_by_class_name('noQuotes').click()\n",
    "time.sleep(PAUSE_TIME)\n",
    "#들어갔을 때 맨 처음 리뷰 클릭\n",
    "try:\n",
    "    num = driver.find_element_by_xpath('//*[@id=\"taplc_location_reviews_list_sur_0\"]/div/p/b[1]')\n",
    "    n = int(num.text)\n",
    "    if (n % 5) != 0 :\n",
    "        n = int(n / 5) + 1\n",
    "    else:\n",
    "        n = int(n / 5)\n",
    "except:\n",
    "    n = 1\n",
    "    pass\n",
    "    \n",
    "\n",
    "    \n",
    "for i in range(n):\n",
    "    text = driver.page_source\n",
    "    soup = BS(text, 'html.parser')\n",
    "    time.sleep(PAUSE_TIME)\n",
    "    id = soup.findAll('span', 'expand_inline scrname')\n",
    "    rtl = driver.find_elements_by_class_name('noQuotes') #리뷰 소제목\n",
    "    stl = driver.find_elements_by_class_name('entry') #리뷰 세부내용\n",
    "        \n",
    "    for a in stl:\n",
    "        try:\n",
    "            for word in estring:\n",
    "                if word in a.text:\n",
    "                    stl.remove(a)\n",
    "        except:\n",
    "            pass\n",
    "        \n",
    "    for i in range(len(rtl)):\n",
    "            try:\n",
    "                print('ID : ' + id[i].text)\n",
    "                print(\"title :\", rtl[i].text.strip())\n",
    "                print(\"subtext :\", stl[i].text.strip() +'\\n')\n",
    "                curs.execute(sql, (id[i].text, rtl[i].text.strip(), stl[i].text.strip()))\n",
    "                conn.commit()\n",
    "            except:\n",
    "                continue\n",
    "                \n",
    "        \n",
    "    try:\n",
    "        driver.find_element_by_xpath('//*[@id=\"taplc_location_reviews_list_sur_0\"]/div/div[11]/div/div/a[2]/div').click()\n",
    "        time.sleep(PAUSE_TIME)\n",
    "    except:\n",
    "        pass\n",
    "        \n",
    "print('='*50)\n",
    "\n",
    "conn.close()"
   ]
  },
  {
   "cell_type": "code",
   "execution_count": null,
   "metadata": {},
   "outputs": [],
   "source": []
  },
  {
   "cell_type": "code",
   "execution_count": null,
   "metadata": {},
   "outputs": [],
   "source": []
  },
  {
   "cell_type": "code",
   "execution_count": null,
   "metadata": {},
   "outputs": [],
   "source": []
  },
  {
   "cell_type": "code",
   "execution_count": null,
   "metadata": {},
   "outputs": [],
   "source": []
  },
  {
   "cell_type": "code",
   "execution_count": null,
   "metadata": {},
   "outputs": [],
   "source": []
  }
 ],
 "metadata": {
  "kernelspec": {
   "display_name": "Python 3",
   "language": "python",
   "name": "python3"
  },
  "language_info": {
   "codemirror_mode": {
    "name": "ipython",
    "version": 3
   },
   "file_extension": ".py",
   "mimetype": "text/x-python",
   "name": "python",
   "nbconvert_exporter": "python",
   "pygments_lexer": "ipython3",
   "version": "3.7.0"
  }
 },
 "nbformat": 4,
 "nbformat_minor": 2
}
