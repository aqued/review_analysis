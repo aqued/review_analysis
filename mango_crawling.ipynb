{
 "cells": [
  {
   "cell_type": "code",
   "execution_count": 3,
   "metadata": {},
   "outputs": [],
   "source": [
    "import requests as rq\n",
    "import time\n",
    "import pandas as pd\n",
    "import re\n",
    "\n",
    "\n",
    "from openpyxl import Workbook\n",
    "from openpyxl import load_workbook\n",
    "from selenium import webdriver\n",
    "from selenium.webdriver.common.keys import Keys\n",
    "from datetime import datetime, timedelta\n",
    "from bs4 import BeautifulSoup as BS"
   ]
  },
  {
   "cell_type": "code",
   "execution_count": 4,
   "metadata": {},
   "outputs": [],
   "source": [
    "#크롬브라우저 드라이버 경로 설정\n",
    "\n",
    "path = 'C:\\ChromeDriver\\chromedriver.exe'\n",
    "PAUSE_TIME = 1.0"
   ]
  },
  {
   "cell_type": "code",
   "execution_count": 5,
   "metadata": {},
   "outputs": [],
   "source": [
    "driver = webdriver.Chrome(path)\n",
    "time.sleep(PAUSE_TIME)"
   ]
  },
  {
   "cell_type": "code",
   "execution_count": 6,
   "metadata": {},
   "outputs": [],
   "source": [
    "#망고플레이트 긁을 리스트 주소\n",
    "url = \"https://www.mangoplate.com/top_lists/_CH2GRJ\""
   ]
  },
  {
   "cell_type": "code",
   "execution_count": 7,
   "metadata": {},
   "outputs": [],
   "source": [
    "driver.get(url)\n",
    "time.sleep(1)"
   ]
  },
  {
   "cell_type": "code",
   "execution_count": 16,
   "metadata": {},
   "outputs": [],
   "source": [
    "#리스트 더보기 반복 클릭\n",
    "try:    \n",
    "    list_add = driver.find_element_by_css_selector('#contents_list > div > button')\n",
    "except:\n",
    "    pass\n",
    "\n",
    "list_num = driver.find_element_by_xpath('/html/body/main/article/header/div/h1')    \n",
    "lnum = re.findall('\\d+', list_num.text)\n",
    "#print(len(lnum))\n",
    "lnum = int(lnum[-1])\n",
    "time.sleep(PAUSE_TIME)\n"
   ]
  },
  {
   "cell_type": "code",
   "execution_count": 17,
   "metadata": {},
   "outputs": [],
   "source": [
    "if lnum != 10:\n",
    "    for a in range(int(lnum/10)):\n",
    "        try:\n",
    "            list_add.click()\n",
    "            time.sleep(PAUSE_TIME)\n",
    "        except:\n",
    "            continue"
   ]
  },
  {
   "cell_type": "code",
   "execution_count": 18,
   "metadata": {},
   "outputs": [],
   "source": [
    "#페이지 내용 긁기\n",
    "list_text = driver.page_source\n",
    "l_soup = BS(list_text, 'html.parser')"
   ]
  },
  {
   "cell_type": "code",
   "execution_count": 19,
   "metadata": {},
   "outputs": [],
   "source": [
    "#링크가져오기\n",
    "link = l_soup.select('span > a')\n",
    "index = 0\n",
    "alink = []\n",
    "for index in range(lnum):\n",
    "    #print(link[index].text)\n",
    "    #print(link[index].get('href'))\n",
    "    alink.append('https://www.mangoplate.com'+link[index].get('href'))\n",
    "    #print(alink[index])"
   ]
  },
  {
   "cell_type": "code",
   "execution_count": 32,
   "metadata": {},
   "outputs": [],
   "source": [
    "for i in range(lnum):\n",
    "    driver.get(alink[i])\n",
    "    #리뷰수\n",
    "    reviewn = driver.find_element_by_xpath('/html/body/main/article/div[1]/div[1]/div/section[3]/div/ul/li[1]/button').text\n",
    "    rnum = re.findall(\"\\d+\", reviewn)\n",
    "    try:\n",
    "        rn = rnum[len(rnum)-1]\n",
    "    except IndexError as e:\n",
    "        rn = rnum\n",
    "        pass\n",
    "\n",
    "    #print(rn)\n",
    "    #===============================================================================\n",
    "    #더보기\n",
    "    n = int(rn)/5\n",
    "    i=0\n",
    "    try:\n",
    "        add_show = driver.find_element_by_xpath('/html/body/main/article/div[1]/div[1]/div/section[3]/button')\n",
    "        for i in range(int(n)):\n",
    "            add_show.click()\n",
    "            time.sleep(PAUSE_TIME)\n",
    "    except:\n",
    "        pass\n",
    "    \n",
    "    time.sleep(PAUSE_TIME)\n",
    "    text = driver.page_source\n",
    "    soup = BS(text, 'html.parser')\n",
    "    #날짜 긁기\n",
    "    date = soup.find_all('span', 'past-time ng-binding')\n",
    "    #리뷰 긁기\n",
    "    review = soup.findAll('span', 'short_review more_review_bind review_content') + soup.find_all('span', 'review_content ng-binding')\n",
    "    \n",
    "    index = 0\n",
    "    index1 = 0\n",
    "    for i in review:\n",
    "        index +=1\n",
    "    for i in date:\n",
    "        index1 += 1\n",
    "    \n",
    "    #엑셀 시작\n",
    "    wb = Workbook()\n",
    "\n",
    "    spring = ['03','04','05']\n",
    "    summer = ['06', '07','08']\n",
    "    fall = ['09', '10', '11']\n",
    "    winter = ['12','01','02']\n",
    "\n",
    "    sheet1 = wb.active\n",
    "    sheet1.title = \"봄\"\n",
    "    sheet1.cell(1, column = 1).value = '날짜'\n",
    "    sheet1.cell(1, column = 2).value = '리뷰'\n",
    "\n",
    "    sheet2 = wb.create_sheet('여름')\n",
    "    sheet2.cell(1, column = 1).value = '날짜'\n",
    "    sheet2.cell(1, column = 2).value = '리뷰'\n",
    "\n",
    "    sheet3 = wb.create_sheet('가을')\n",
    "    sheet3.cell(1, column = 1).value = '날짜'\n",
    "    sheet3.cell(1, column = 2).value = '리뷰'\n",
    "\n",
    "    sheet4 = wb.create_sheet('겨울')\n",
    "    sheet4.cell(1, column = 1).value = '날짜'\n",
    "    sheet4.cell(1, column = 2).value = '리뷰'\n",
    "    \n",
    "    \n",
    "    #음식점 이름으로 엑셀 이름 저장\n",
    "    ret_name = soup.find('title').text.split()[0]\n",
    "    file_name = ret_name + '.xlsx'\n",
    "\n",
    "    sp_index = 2\n",
    "    su_index = 2\n",
    "    fa_index = 2\n",
    "    wi_index = 2\n",
    "    rn = int(rn)\n",
    "    \n",
    "    ntime = datetime.now()\n",
    "    date_list=[]\n",
    "    for i in range(len(date)):\n",
    "        if date[i].text[1:3] == '일전':\n",
    "            a = int(date[i].text[0])\n",
    "            temp = str(ntime + timedelta(days=-a))\n",
    "            date_list.append(temp[0:10])\n",
    "        else:\n",
    "            date_list.append(date[i].text)\n",
    "        \n",
    "\n",
    "    for row_index in range(0, rn):\n",
    "        try:\n",
    "            if date_list[row_index][5:7] in spring:\n",
    "                sheet1.cell(sp_index, column = 1).value = date_list[row_index]\n",
    "                sheet1.cell(sp_index, column = 2).value = review[row_index].text.strip()  \n",
    "                sp_index += 1\n",
    "            elif date_list[row_index][5:7] in summer:   \n",
    "                sheet2.cell(su_index, column = 1).value = date_list[row_index]\n",
    "                sheet2.cell(su_index, column = 2).value = review[row_index].text.strip()  \n",
    "                su_index += 1\n",
    "            elif date_list[row_index][5:7] in fall:   \n",
    "                sheet3.cell(fa_index, column = 1).value = date_list[row_index]\n",
    "                sheet3.cell(fa_index, column = 2).value = review[row_index].text.strip()  \n",
    "                fa_index += 1\n",
    "            elif date_list[row_index][5:7] in winter:   \n",
    "                sheet4.cell(wi_index, column = 1).value = date_list[row_index]\n",
    "                sheet4.cell(wi_index, column = 2).value = review[row_index].text.strip()      \n",
    "                wi_index += 1\n",
    "        except:\n",
    "            pass\n",
    "            \n",
    "\n",
    "    \n",
    "    wb.save(filename=file_name)\n",
    "\n",
    "\n",
    "    \n"
   ]
  },
  {
   "cell_type": "code",
   "execution_count": null,
   "metadata": {},
   "outputs": [],
   "source": []
  },
  {
   "cell_type": "code",
   "execution_count": null,
   "metadata": {},
   "outputs": [],
   "source": []
  },
  {
   "cell_type": "code",
   "execution_count": null,
   "metadata": {},
   "outputs": [],
   "source": []
  },
  {
   "cell_type": "markdown",
   "metadata": {},
   "source": [
    "## 시험본 _ 연습코드"
   ]
  },
  {
   "cell_type": "code",
   "execution_count": 27,
   "metadata": {},
   "outputs": [
    {
     "name": "stdout",
     "output_type": "stream",
     "text": [
      "43\n"
     ]
    }
   ],
   "source": [
    "driver.get(alink[48])\n",
    "#리뷰수\n",
    "reviewn = driver.find_element_by_xpath('/html/body/main/article/div[1]/div[1]/div/section[3]/div/ul/li[1]/button').text\n",
    "rnum = re.findall(\"\\d+\", reviewn)\n",
    "try:\n",
    "    rn = rnum[len(rnum)-1]\n",
    "except IndexError as e:\n",
    "    rn = rnum\n",
    "    pass\n",
    "\n",
    "print(rn)\n",
    "    #===============================================================================\n",
    "    #더보기\n",
    "\n",
    "n = int(rn)/5\n",
    "i=0\n",
    "try:\n",
    "    add_show = driver.find_element_by_xpath('/html/body/main/article/div[1]/div[1]/div/section[3]/button')\n",
    "    for i in range(int(n)):\n",
    "        add_show.click()\n",
    "        time.sleep(PAUSE_TIME)\n",
    "except:\n",
    "    pass\n",
    "    \n",
    "time.sleep(PAUSE_TIME)\n",
    "text = driver.page_source\n",
    "soup = BS(text, 'html.parser')\n",
    "date = soup.find_all('span', 'past-time ng-binding')\n",
    "review = soup.findAll('span', 'short_review more_review_bind review_content')"
   ]
  },
  {
   "cell_type": "code",
   "execution_count": 28,
   "metadata": {},
   "outputs": [
    {
     "name": "stdout",
     "output_type": "stream",
     "text": [
      "5 43\n"
     ]
    }
   ],
   "source": [
    "index = 0\n",
    "index1 = 0\n",
    "for i in review:\n",
    "    index +=1\n",
    "for i in date:\n",
    "    index1 += 1\n",
    "\n",
    "print(index, index1)\n"
   ]
  },
  {
   "cell_type": "code",
   "execution_count": 29,
   "metadata": {},
   "outputs": [],
   "source": [
    "wb = Workbook()\n",
    "\n",
    "spring = ['03','04','05']\n",
    "summer = ['06', '07','08']\n",
    "fall = ['09', '10', '11']\n",
    "winter = ['12','01','02']\n",
    "\n",
    "sheet1 = wb.active\n",
    "sheet1.title = \"봄\"\n",
    "sheet1.cell(1, column = 1).value = '날짜'\n",
    "sheet1.cell(1, column = 2).value = '리뷰'\n",
    "\n",
    "sheet2 = wb.create_sheet('여름')\n",
    "sheet2.cell(1, column = 1).value = '날짜'\n",
    "sheet2.cell(1, column = 2).value = '리뷰'\n",
    "\n",
    "sheet3 = wb.create_sheet('가을')\n",
    "sheet3.cell(1, column = 1).value = '날짜'\n",
    "sheet3.cell(1, column = 2).value = '리뷰'\n",
    "\n",
    "sheet4 = wb.create_sheet('겨울')\n",
    "sheet4.cell(1, column = 1).value = '날짜'\n",
    "sheet4.cell(1, column = 2).value = '리뷰'"
   ]
  },
  {
   "cell_type": "code",
   "execution_count": 30,
   "metadata": {},
   "outputs": [],
   "source": [
    "for i in range(len(date)):\n",
    "    if date[i].text[1:3] == '일전':\n",
    "        a = int(date[i].text[0])\n",
    "        temp = str(ntime + timedelta(days=-a))\n",
    "        date_list.append(temp[0:10])\n",
    "    else:\n",
    "        date_list.append(date[i].text)"
   ]
  },
  {
   "cell_type": "code",
   "execution_count": 31,
   "metadata": {},
   "outputs": [],
   "source": [
    "#음식점 이름으로 엑셀 이름 저장\n",
    "ret_name = soup.find('title').text.split()[0]\n",
    "file_name = ret_name + '.xlsx'\n",
    "\n",
    "sp_index = 2\n",
    "su_index = 2\n",
    "fa_index = 2\n",
    "wi_index = 2\n",
    "rn = int(rn)\n",
    "\n",
    "ntime = datetime.now()\n",
    "date_list=[]\n",
    "for i in range(len(date)):\n",
    "    if date[i].text[1:3] == '일전':\n",
    "        a = int(date[i].text[0])\n",
    "        temp = str(ntime + timedelta(days=-a))\n",
    "        date_list.append(temp[0:10])\n",
    "    else:\n",
    "        date_list.append(date[i].text)\n",
    "        \n",
    "try:\n",
    "    for row_index in range(0, rn):\n",
    "        if date_list[row_index][5:7] in spring:\n",
    "            sheet1.cell(sp_index, column = 1).value = date_list[row_index]\n",
    "            sheet1.cell(sp_index, column = 2).value = review[row_index].text.strip()\n",
    "            sp_index += 1\n",
    "        elif date_list[row_index][5:7] in summer:   \n",
    "            sheet2.cell(su_index, column = 1).value = date_list[row_index]\n",
    "            sheet2.cell(su_index, column = 2).value = review[row_index].text.strip()\n",
    "            su_index += 1\n",
    "        elif date_list[row_index][5:7] in fall:   \n",
    "            sheet3.cell(fa_index, column = 1).value = date_list[row_index]\n",
    "            sheet3.cell(fa_index, column = 2).value = review[row_index].text.strip()\n",
    "            fa_index += 1\n",
    "        elif date_list[row_index][5:7] in winter:   \n",
    "            sheet4.cell(wi_index, column = 1).value = date_list[row_index]\n",
    "            sheet4.cell(wi_index, column = 2).value = review[row_index].text.strip()    \n",
    "            wi_index += 1\n",
    "except:\n",
    "    pass\n",
    "    \n",
    "wb.save(filename=file_name)\n"
   ]
  },
  {
   "cell_type": "code",
   "execution_count": null,
   "metadata": {},
   "outputs": [],
   "source": []
  },
  {
   "cell_type": "code",
   "execution_count": null,
   "metadata": {},
   "outputs": [],
   "source": []
  },
  {
   "cell_type": "code",
   "execution_count": null,
   "metadata": {},
   "outputs": [],
   "source": []
  },
  {
   "cell_type": "code",
   "execution_count": null,
   "metadata": {},
   "outputs": [],
   "source": []
  },
  {
   "cell_type": "code",
   "execution_count": null,
   "metadata": {},
   "outputs": [],
   "source": []
  },
  {
   "cell_type": "code",
   "execution_count": null,
   "metadata": {},
   "outputs": [],
   "source": []
  }
 ],
 "metadata": {
  "kernelspec": {
   "display_name": "Python 3",
   "language": "python",
   "name": "python3"
  },
  "language_info": {
   "codemirror_mode": {
    "name": "ipython",
    "version": 3
   },
   "file_extension": ".py",
   "mimetype": "text/x-python",
   "name": "python",
   "nbconvert_exporter": "python",
   "pygments_lexer": "ipython3",
   "version": "3.7.0"
  }
 },
 "nbformat": 4,
 "nbformat_minor": 2
}
